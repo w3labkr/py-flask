{
 "metadata": {
  "language_info": {
   "codemirror_mode": {
    "name": "ipython",
    "version": 3
   },
   "file_extension": ".py",
   "mimetype": "text/x-python",
   "name": "python",
   "nbconvert_exporter": "python",
   "pygments_lexer": "ipython3",
   "version": "3.9.1-final"
  },
  "orig_nbformat": 2,
  "kernelspec": {
   "name": "python3",
   "display_name": "Python 3",
   "language": "python"
  }
 },
 "nbformat": 4,
 "nbformat_minor": 2,
 "cells": [
  {
   "cell_type": "code",
   "execution_count": 1,
   "metadata": {},
   "outputs": [],
   "source": [
    "import pandas as pd\n",
    "\n",
    "# kospi & kosdaq & konex\n",
    "# http://marketdata.krx.co.kr/mdi#document=040601\n",
    "\n",
    "# all\n",
    "# http://kind.krx.co.kr/corpgeneral/corpList.do?method=download"
   ]
  },
  {
   "cell_type": "code",
   "execution_count": 2,
   "metadata": {},
   "outputs": [
    {
     "output_type": "stream",
     "name": "stdout",
     "text": [
      "(800, 2)\n"
     ]
    },
    {
     "output_type": "execute_result",
     "data": {
      "text/plain": [
       "     종목코드      기업명\n",
       "0  095570   AJ네트웍스\n",
       "1  006840    AK홀딩스\n",
       "2  027410      BGF\n",
       "3  282330   BGF리테일\n",
       "4  138930  BNK금융지주"
      ],
      "text/html": "<div>\n<style scoped>\n    .dataframe tbody tr th:only-of-type {\n        vertical-align: middle;\n    }\n\n    .dataframe tbody tr th {\n        vertical-align: top;\n    }\n\n    .dataframe thead th {\n        text-align: right;\n    }\n</style>\n<table border=\"1\" class=\"dataframe\">\n  <thead>\n    <tr style=\"text-align: right;\">\n      <th></th>\n      <th>종목코드</th>\n      <th>기업명</th>\n    </tr>\n  </thead>\n  <tbody>\n    <tr>\n      <th>0</th>\n      <td>095570</td>\n      <td>AJ네트웍스</td>\n    </tr>\n    <tr>\n      <th>1</th>\n      <td>006840</td>\n      <td>AK홀딩스</td>\n    </tr>\n    <tr>\n      <th>2</th>\n      <td>027410</td>\n      <td>BGF</td>\n    </tr>\n    <tr>\n      <th>3</th>\n      <td>282330</td>\n      <td>BGF리테일</td>\n    </tr>\n    <tr>\n      <th>4</th>\n      <td>138930</td>\n      <td>BNK금융지주</td>\n    </tr>\n  </tbody>\n</table>\n</div>"
     },
     "metadata": {},
     "execution_count": 2
    }
   ],
   "source": [
    "df = pd.read_csv('./data/kospi.csv')\n",
    "df = df[['종목코드', '기업명']]\n",
    "\n",
    "df['종목코드'] = df['종목코드'].astype(str).str.zfill(6)\n",
    "\n",
    "print(df.shape)\n",
    "df.head()"
   ]
  },
  {
   "cell_type": "code",
   "execution_count": null,
   "metadata": {},
   "outputs": [],
   "source": [
    "dataset = []\n",
    "\n",
    "for i in df.index:\n",
    "    data = {}\n",
    "    data.update({ '종목코드': df['종목코드'][i] })\n",
    "    data.update({ '기업명': df['기업명'][i] })\n",
    "    \n",
    "    dataset.append(data)\n"
   ]
  },
  {
   "cell_type": "code",
   "execution_count": 3,
   "metadata": {},
   "outputs": [
    {
     "output_type": "stream",
     "name": "stdout",
     "text": [
      "(1460, 2)\n"
     ]
    },
    {
     "output_type": "execute_result",
     "data": {
      "text/plain": [
       "     종목코드     기업명\n",
       "0  060310      3S\n",
       "1  054620  APS홀딩스\n",
       "2  265520   AP시스템\n",
       "3  211270    AP위성\n",
       "4  035760  CJ ENM"
      ],
      "text/html": "<div>\n<style scoped>\n    .dataframe tbody tr th:only-of-type {\n        vertical-align: middle;\n    }\n\n    .dataframe tbody tr th {\n        vertical-align: top;\n    }\n\n    .dataframe thead th {\n        text-align: right;\n    }\n</style>\n<table border=\"1\" class=\"dataframe\">\n  <thead>\n    <tr style=\"text-align: right;\">\n      <th></th>\n      <th>종목코드</th>\n      <th>기업명</th>\n    </tr>\n  </thead>\n  <tbody>\n    <tr>\n      <th>0</th>\n      <td>060310</td>\n      <td>3S</td>\n    </tr>\n    <tr>\n      <th>1</th>\n      <td>054620</td>\n      <td>APS홀딩스</td>\n    </tr>\n    <tr>\n      <th>2</th>\n      <td>265520</td>\n      <td>AP시스템</td>\n    </tr>\n    <tr>\n      <th>3</th>\n      <td>211270</td>\n      <td>AP위성</td>\n    </tr>\n    <tr>\n      <th>4</th>\n      <td>035760</td>\n      <td>CJ ENM</td>\n    </tr>\n  </tbody>\n</table>\n</div>"
     },
     "metadata": {},
     "execution_count": 3
    }
   ],
   "source": [
    "df = pd.read_csv('./data/kosdaq.csv')\n",
    "df = df[['종목코드', '기업명']]\n",
    "\n",
    "df['종목코드'] = df['종목코드'].astype(str).str.zfill(6)\n",
    "\n",
    "print(df.shape)\n",
    "df.head()"
   ]
  },
  {
   "cell_type": "code",
   "execution_count": null,
   "metadata": {},
   "outputs": [],
   "source": []
  }
 ]
}