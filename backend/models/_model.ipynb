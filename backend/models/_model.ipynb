{
 "metadata": {
  "language_info": {
   "codemirror_mode": {
    "name": "ipython",
    "version": 3
   },
   "file_extension": ".py",
   "mimetype": "text/x-python",
   "name": "python",
   "nbconvert_exporter": "python",
   "pygments_lexer": "ipython3",
   "version": "3.8.5-final"
  },
  "orig_nbformat": 2,
  "kernelspec": {
   "name": "python3",
   "display_name": "Python 3.8.5 64-bit ('3.8.5': pyenv)",
   "metadata": {
    "interpreter": {
     "hash": "6c677bc4c660f1f1cbf165f965e4b1da2a53dc6ba2819dcdba81dbfb14fe63d8"
    }
   }
  }
 },
 "nbformat": 4,
 "nbformat_minor": 2,
 "cells": [
  {
   "source": [
    "# Middleware"
   ],
   "cell_type": "markdown",
   "metadata": {}
  },
  {
   "cell_type": "code",
   "execution_count": 1,
   "metadata": {},
   "outputs": [],
   "source": [
    "# Miscellaneous operating system interfaces\n",
    "import os\n",
    "\n",
    "# A compendium of commonly-used regular expressions.\n",
    "import re\n",
    "\n",
    "# JSON encoder and decoder\n",
    "import json\n",
    "\n",
    "# Unix style pathname pattern expansion\n",
    "from glob import glob\n",
    "\n",
    "# Basic date and time types\n",
    "from datetime import date, datetime, timedelta\n",
    "\n",
    "# Set the absolute directory path.\n",
    "BASE_PATH = os.path.abspath('')\n",
    "dirs = os.path.dirname(BASE_PATH)\n",
    "CONFIG_PATH = os.path.join(dirs, 'configs')\n",
    "DATASET_PATH = os.path.join(dirs, 'datasets')\n",
    "MIDDLEWARE_PATH = os.path.join(dirs, 'middlewares')\n",
    "ML_PATH = os.path.join(dirs, 'mls')\n",
    "MODEL_PATH = os.path.join(dirs, 'models')\n",
    "ROUTE_PATH = os.path.join(dirs, 'routes')\n",
    "TEMPLATE_PATH = os.path.join(dirs, 'templates')"
   ]
  },
  {
   "cell_type": "code",
   "execution_count": 2,
   "metadata": {},
   "outputs": [],
   "source": [
    "# The implementation of import\n",
    "import importlib\n",
    "\n",
    "# A Fast, Extensible Progress Bar for Python and CLI\n",
    "from tqdm import tqdm"
   ]
  },
  {
   "cell_type": "code",
   "execution_count": 3,
   "metadata": {},
   "outputs": [],
   "source": [
    "# The fundamental package for scientific computing with Python.\n",
    "import numpy as np\n",
    "\n",
    "# Flexible and powerful data analysis / manipulation library for Python, providing labeled data structures similar to R data.frame objects, statistical functions, and much more\n",
    "import pandas as pd\n",
    "\n",
    "# Python tools for geographic data\n",
    "import geopandas as gpd"
   ]
  },
  {
   "cell_type": "code",
   "execution_count": 4,
   "metadata": {},
   "outputs": [],
   "source": [
    "# Statistical data visualization using matplotlib.\n",
    "import seaborn as sns\n",
    "\n",
    "# matplotlib: plotting with Python.\n",
    "import matplotlib as mpl\n",
    "import matplotlib.pyplot as plt\n",
    "# import matplotlib.font_manager\n",
    "\n",
    "# Set the matplotlib color cycle using a seaborn palette.\n",
    "sns.set_palette('pastel')\n",
    "\n",
    "# plot outputs appear and be stored within the notebook.\n",
    "%matplotlib inline\n",
    "\n",
    "# A module for finding, managing, and using fonts across platforms.\n",
    "#mpl.font_manager._rebuild()\n",
    "#sorted([f.name for f in mpl.font_manager.fontManager.ttflist if f.name.startswith('Malgun')])\n",
    "\n",
    "if sys.platform.startswith('darwin'):\n",
    "    mpl.rc('font', family='AppleGothic')\n",
    "elif sys.platform.startswith('win32'):\n",
    "    mpl.rc('font', family='Malgun Gothic')\n",
    "\n",
    "mpl.rc('axes', unicode_minus=False)"
   ]
  },
  {
   "cell_type": "code",
   "execution_count": 5,
   "metadata": {},
   "outputs": [],
   "source": [
    "# Machine learning in Python\n",
    "from sklearn import datasets\n",
    "from sklearn.model_selection import train_test_split\n",
    "\n",
    "# Computing with Python functions.\n",
    "import joblib\n",
    "#joblib.dump(lr, './models/model.pkl')\n",
    "#model = joblib.load('./models/model.pkl')"
   ]
  },
  {
   "cell_type": "code",
   "execution_count": 7,
   "metadata": {},
   "outputs": [
    {
     "output_type": "stream",
     "name": "stdout",
     "text": [
      "{'file': ''}\n"
     ]
    }
   ],
   "source": [
    "session = {}\n",
    "session['history'] = [\n",
    "    ('/ai/cluster/pca/', {'file':''}),\n",
    "    ('/ai/clustering/pca/', {}),\n",
    "]\n",
    "\n",
    "request_url = '/ai/cluster/pca/'\n",
    "\n",
    "for name, value in session.get('history'):\n",
    "    if '/ai/cluster/pca/' in name:\n",
    "        print(value)"
   ]
  },
  {
   "cell_type": "code",
   "execution_count": 18,
   "metadata": {},
   "outputs": [
    {
     "output_type": "execute_result",
     "data": {
      "text/plain": [
       "[{'file': ''}]"
      ]
     },
     "metadata": {},
     "execution_count": 18
    }
   ],
   "source": [
    "value = [value for name, value in session.get('history') if '/ai/cluster/pca/' in name]\n",
    "value"
   ]
  },
  {
   "cell_type": "code",
   "execution_count": 2,
   "metadata": {},
   "outputs": [
    {
     "output_type": "execute_result",
     "data": {
      "text/plain": [
       "('abc.def', '.csv')"
      ]
     },
     "metadata": {},
     "execution_count": 2
    }
   ],
   "source": [
    "files = 'abc.def.csv'\n",
    "filename, extension = os.path.splitext(files)\n",
    "filename, extension"
   ]
  },
  {
   "cell_type": "code",
   "execution_count": 4,
   "metadata": {},
   "outputs": [
    {
     "output_type": "execute_result",
     "data": {
      "text/plain": [
       "['', 'csv']"
      ]
     },
     "metadata": {},
     "execution_count": 4
    }
   ],
   "source": [
    "extension.rsplit('.')"
   ]
  },
  {
   "cell_type": "code",
   "execution_count": 5,
   "metadata": {},
   "outputs": [
    {
     "output_type": "execute_result",
     "data": {
      "text/plain": [
       "['', 'csv']"
      ]
     },
     "metadata": {},
     "execution_count": 5
    }
   ],
   "source": [
    "# setting the maxsplit parameter to 1, will return a list with 2 elements!\n",
    "extension.rsplit('.', 1)"
   ]
  },
  {
   "cell_type": "code",
   "execution_count": 3,
   "metadata": {},
   "outputs": [
    {
     "output_type": "execute_result",
     "data": {
      "text/plain": [
       "'csv'"
      ]
     },
     "metadata": {},
     "execution_count": 3
    }
   ],
   "source": [
    "extension.rsplit('.', 1)[1].lower()"
   ]
  },
  {
   "cell_type": "code",
   "execution_count": null,
   "metadata": {},
   "outputs": [],
   "source": []
  }
 ]
}