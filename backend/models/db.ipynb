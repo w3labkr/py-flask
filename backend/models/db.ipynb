{
 "metadata": {
  "language_info": {
   "codemirror_mode": {
    "name": "ipython",
    "version": 3
   },
   "file_extension": ".py",
   "mimetype": "text/x-python",
   "name": "python",
   "nbconvert_exporter": "python",
   "pygments_lexer": "ipython3",
   "version": "3.8.5-final"
  },
  "orig_nbformat": 2,
  "kernelspec": {
   "name": "python3",
   "display_name": "Python 3",
   "language": "python"
  }
 },
 "nbformat": 4,
 "nbformat_minor": 2,
 "cells": [
  {
   "cell_type": "code",
   "execution_count": 13,
   "metadata": {},
   "outputs": [],
   "source": [
    "import os\n",
    "import json\n",
    "\n",
    "# Set the absolute directory path.\n",
    "BASE_PATH = os.path.abspath('')\n",
    "dirs = os.path.dirname(BASE_PATH)"
   ]
  },
  {
   "cell_type": "code",
   "execution_count": 21,
   "metadata": {},
   "outputs": [
    {
     "output_type": "execute_result",
     "data": {
      "text/plain": [
       "{'base': {'host': 'localhost',\n",
       "  'user': 'hsuser',\n",
       "  'password': 'hspass',\n",
       "  'database': 'world',\n",
       "  'port': 3306},\n",
       " 'pool': {'host': 'localhost',\n",
       "  'user': 'hsuser',\n",
       "  'password': 'hspass',\n",
       "  'database': 'world',\n",
       "  'port': 3306,\n",
       "  'waitForConnections': True,\n",
       "  'connectionLimit': 10,\n",
       "  'queueLimit': 0},\n",
       " 'promisePool': {'Promise': 'bluebird',\n",
       "  'host': 'localhost',\n",
       "  'user': 'boarduser',\n",
       "  'password': 'boardpass',\n",
       "  'database': 'board',\n",
       "  'port': 3306,\n",
       "  'waitForConnections': True,\n",
       "  'connectionLimit': 10,\n",
       "  'queueLimit': 0}}"
      ]
     },
     "metadata": {},
     "execution_count": 21
    }
   ],
   "source": [
    "# you cannot use json.loads on file object\n",
    "with open(os.path.join(dirs, 'configs', 'db.json'), 'r') as f:\n",
    "    config = json.load(f)\n",
    "config"
   ]
  },
  {
   "cell_type": "code",
   "execution_count": 22,
   "metadata": {},
   "outputs": [
    {
     "output_type": "execute_result",
     "data": {
      "text/plain": [
       "{'host': 'localhost',\n",
       " 'user': 'hsuser',\n",
       " 'password': 'hspass',\n",
       " 'database': 'world',\n",
       " 'port': 3306}"
      ]
     },
     "metadata": {},
     "execution_count": 22
    }
   ],
   "source": [
    "config['base']"
   ]
  }
 ]
}