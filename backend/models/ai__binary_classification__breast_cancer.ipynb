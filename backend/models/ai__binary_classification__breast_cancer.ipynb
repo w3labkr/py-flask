{
 "metadata": {
  "language_info": {
   "codemirror_mode": {
    "name": "ipython",
    "version": 3
   },
   "file_extension": ".py",
   "mimetype": "text/x-python",
   "name": "python",
   "nbconvert_exporter": "python",
   "pygments_lexer": "ipython3",
   "version": "3.8.5-final"
  },
  "orig_nbformat": 2,
  "kernelspec": {
   "name": "python3",
   "display_name": "Python 3",
   "language": "python"
  }
 },
 "nbformat": 4,
 "nbformat_minor": 2,
 "cells": [
  {
   "source": [
    "# Sklearn Datasets"
   ],
   "cell_type": "markdown",
   "metadata": {}
  },
  {
   "cell_type": "code",
   "execution_count": 1,
   "metadata": {},
   "outputs": [],
   "source": [
    "# Miscellaneous operating system interfaces\n",
    "import os\n",
    "\n",
    "# A compendium of commonly-used regular expressions.\n",
    "import re\n",
    "\n",
    "# JSON encoder and decoder\n",
    "import json\n",
    "\n",
    "# Unix style pathname pattern expansion\n",
    "from glob import glob\n",
    "\n",
    "# Basic date and time types\n",
    "from datetime import date, datetime, timedelta\n",
    "\n",
    "# Set the absolute directory path.\n",
    "BASE_PATH = os.path.abspath('')\n",
    "dirs = os.path.dirname(BASE_PATH)\n",
    "CONFIG_PATH = os.path.join(dirs, 'configs')\n",
    "DATASET_PATH = os.path.join(dirs, 'datasets')\n",
    "MIDDLEWARE_PATH = os.path.join(dirs, 'middlewares')\n",
    "MODEL_PATH = os.path.join(dirs, 'models')\n",
    "ROUTE_PATH = os.path.join(dirs, 'routes')\n",
    "TEMPLATE_PATH = os.path.join(dirs, 'templates')"
   ]
  },
  {
   "cell_type": "code",
   "execution_count": 2,
   "metadata": {},
   "outputs": [],
   "source": [
    "# The implementation of import\n",
    "import importlib\n",
    "\n",
    "# A Fast, Extensible Progress Bar for Python and CLI\n",
    "from tqdm import tqdm"
   ]
  },
  {
   "cell_type": "code",
   "execution_count": 3,
   "metadata": {},
   "outputs": [],
   "source": [
    "# The fundamental package for scientific computing with Python.\n",
    "import numpy as np\n",
    "\n",
    "# Flexible and powerful data analysis / manipulation library for Python, providing labeled data structures similar to R data.frame objects, statistical functions, and much more\n",
    "import pandas as pd"
   ]
  },
  {
   "cell_type": "code",
   "execution_count": 4,
   "metadata": {},
   "outputs": [],
   "source": [
    "# Statistical data visualization using matplotlib.\n",
    "import seaborn as sns\n",
    "\n",
    "# matplotlib: plotting with Python.\n",
    "import matplotlib as mpl\n",
    "import matplotlib.pyplot as plt\n",
    "import matplotlib.font_manager\n",
    "\n",
    "# Set the matplotlib color cycle using a seaborn palette.\n",
    "sns.set_palette('pastel')\n",
    "\n",
    "# plot outputs appear and be stored within the notebook.\n",
    "%matplotlib inline\n",
    "\n",
    "# A module for finding, managing, and using fonts across platforms.\n",
    "if sys.platform.startswith('darwin'):\n",
    "    mpl.rc('font', family='AppleGothic')\n",
    "elif sys.platform.startswith('win32'):\n",
    "    mpl.rc('font', family='Malgun Gothic')\n",
    "\n",
    "mpl.rc('axes', unicode_minus=False)"
   ]
  },
  {
   "cell_type": "code",
   "execution_count": 30,
   "metadata": {},
   "outputs": [],
   "source": [
    "# Machine learning in Python\n",
    "from sklearn import datasets\n",
    "from sklearn.model_selection import train_test_split, KFold, GridSearchCV\n",
    "from sklearn.preprocessing import StandardScaler, MinMaxScaler\n",
    "from sklearn.linear_model import LogisticRegression\n",
    "from sklearn.metrics import accuracy_score\n",
    "from sklearn.svm import SVC\n",
    "from sklearn.ensemble import RandomForestClassifier\n",
    "from sklearn.tree import DecisionTreeClassifier\n",
    "\n",
    "# Computing with Python functions.\n",
    "import joblib"
   ]
  },
  {
   "source": [
    "## Datasets"
   ],
   "cell_type": "markdown",
   "metadata": {}
  },
  {
   "cell_type": "code",
   "execution_count": 6,
   "metadata": {},
   "outputs": [
    {
     "output_type": "execute_result",
     "data": {
      "text/plain": [
       "((426, 31), (143, 31))"
      ]
     },
     "metadata": {},
     "execution_count": 6
    }
   ],
   "source": [
    "filename = 'breast_cancer'\n",
    "train_df = pd.read_csv(os.path.join(DATASET_PATH, 'sklearn', '{}_train.csv'.format(filename)))\n",
    "test_df = pd.read_csv(os.path.join(DATASET_PATH, 'sklearn', '{}_test.csv'.format(filename)))\n",
    "train_df.shape, test_df.shape"
   ]
  },
  {
   "source": [
    "## Preprocessing"
   ],
   "cell_type": "markdown",
   "metadata": {}
  },
  {
   "cell_type": "code",
   "execution_count": 7,
   "metadata": {},
   "outputs": [
    {
     "output_type": "execute_result",
     "data": {
      "text/plain": [
       "   mean radius  mean texture  mean perimeter  mean area  mean smoothness  \\\n",
       "0        25.73         17.46           174.2     2010.0           0.1149   \n",
       "\n",
       "   mean compactness  mean concavity  mean concave points  mean symmetry  \\\n",
       "0            0.2363          0.3368               0.1913         0.1956   \n",
       "\n",
       "   mean fractal dimension  ...  worst texture  worst perimeter  worst area  \\\n",
       "0                 0.06121  ...          23.58            229.3      3234.0   \n",
       "\n",
       "   worst smoothness  worst compactness  worst concavity  worst concave points  \\\n",
       "0             0.153             0.5937           0.6451                0.2756   \n",
       "\n",
       "   worst symmetry  worst fractal dimension  target  \n",
       "0           0.369                  0.08815       0  \n",
       "\n",
       "[1 rows x 31 columns]"
      ],
      "text/html": "<div>\n<style scoped>\n    .dataframe tbody tr th:only-of-type {\n        vertical-align: middle;\n    }\n\n    .dataframe tbody tr th {\n        vertical-align: top;\n    }\n\n    .dataframe thead th {\n        text-align: right;\n    }\n</style>\n<table border=\"1\" class=\"dataframe\">\n  <thead>\n    <tr style=\"text-align: right;\">\n      <th></th>\n      <th>mean radius</th>\n      <th>mean texture</th>\n      <th>mean perimeter</th>\n      <th>mean area</th>\n      <th>mean smoothness</th>\n      <th>mean compactness</th>\n      <th>mean concavity</th>\n      <th>mean concave points</th>\n      <th>mean symmetry</th>\n      <th>mean fractal dimension</th>\n      <th>...</th>\n      <th>worst texture</th>\n      <th>worst perimeter</th>\n      <th>worst area</th>\n      <th>worst smoothness</th>\n      <th>worst compactness</th>\n      <th>worst concavity</th>\n      <th>worst concave points</th>\n      <th>worst symmetry</th>\n      <th>worst fractal dimension</th>\n      <th>target</th>\n    </tr>\n  </thead>\n  <tbody>\n    <tr>\n      <th>0</th>\n      <td>25.73</td>\n      <td>17.46</td>\n      <td>174.2</td>\n      <td>2010.0</td>\n      <td>0.1149</td>\n      <td>0.2363</td>\n      <td>0.3368</td>\n      <td>0.1913</td>\n      <td>0.1956</td>\n      <td>0.06121</td>\n      <td>...</td>\n      <td>23.58</td>\n      <td>229.3</td>\n      <td>3234.0</td>\n      <td>0.153</td>\n      <td>0.5937</td>\n      <td>0.6451</td>\n      <td>0.2756</td>\n      <td>0.369</td>\n      <td>0.08815</td>\n      <td>0</td>\n    </tr>\n  </tbody>\n</table>\n<p>1 rows × 31 columns</p>\n</div>"
     },
     "metadata": {},
     "execution_count": 7
    }
   ],
   "source": [
    "train_df.head(1)"
   ]
  },
  {
   "cell_type": "code",
   "execution_count": 8,
   "metadata": {},
   "outputs": [
    {
     "output_type": "execute_result",
     "data": {
      "text/plain": [
       "((426, 30), (426,))"
      ]
     },
     "metadata": {},
     "execution_count": 8
    }
   ],
   "source": [
    "y_train = train_df['target'].values\n",
    "scaler = MinMaxScaler()\n",
    "X_train = scaler.fit_transform(train_df.drop(columns='target', axis=1))\n",
    "X_train.shape, y_train.shape"
   ]
  },
  {
   "cell_type": "code",
   "execution_count": 9,
   "metadata": {},
   "outputs": [
    {
     "output_type": "execute_result",
     "data": {
      "text/plain": [
       "   mean radius  mean texture  mean perimeter  mean area  mean smoothness  \\\n",
       "0        20.26         23.03           132.4     1264.0          0.09078   \n",
       "\n",
       "   mean compactness  mean concavity  mean concave points  mean symmetry  \\\n",
       "0            0.1313          0.1465              0.08683         0.2095   \n",
       "\n",
       "   mean fractal dimension  ...  worst texture  worst perimeter  worst area  \\\n",
       "0                 0.05649  ...          31.59            156.1      1750.0   \n",
       "\n",
       "   worst smoothness  worst compactness  worst concavity  worst concave points  \\\n",
       "0             0.119             0.3539           0.4098                0.1573   \n",
       "\n",
       "   worst symmetry  worst fractal dimension  target  \n",
       "0          0.3689                  0.08368       0  \n",
       "\n",
       "[1 rows x 31 columns]"
      ],
      "text/html": "<div>\n<style scoped>\n    .dataframe tbody tr th:only-of-type {\n        vertical-align: middle;\n    }\n\n    .dataframe tbody tr th {\n        vertical-align: top;\n    }\n\n    .dataframe thead th {\n        text-align: right;\n    }\n</style>\n<table border=\"1\" class=\"dataframe\">\n  <thead>\n    <tr style=\"text-align: right;\">\n      <th></th>\n      <th>mean radius</th>\n      <th>mean texture</th>\n      <th>mean perimeter</th>\n      <th>mean area</th>\n      <th>mean smoothness</th>\n      <th>mean compactness</th>\n      <th>mean concavity</th>\n      <th>mean concave points</th>\n      <th>mean symmetry</th>\n      <th>mean fractal dimension</th>\n      <th>...</th>\n      <th>worst texture</th>\n      <th>worst perimeter</th>\n      <th>worst area</th>\n      <th>worst smoothness</th>\n      <th>worst compactness</th>\n      <th>worst concavity</th>\n      <th>worst concave points</th>\n      <th>worst symmetry</th>\n      <th>worst fractal dimension</th>\n      <th>target</th>\n    </tr>\n  </thead>\n  <tbody>\n    <tr>\n      <th>0</th>\n      <td>20.26</td>\n      <td>23.03</td>\n      <td>132.4</td>\n      <td>1264.0</td>\n      <td>0.09078</td>\n      <td>0.1313</td>\n      <td>0.1465</td>\n      <td>0.08683</td>\n      <td>0.2095</td>\n      <td>0.05649</td>\n      <td>...</td>\n      <td>31.59</td>\n      <td>156.1</td>\n      <td>1750.0</td>\n      <td>0.119</td>\n      <td>0.3539</td>\n      <td>0.4098</td>\n      <td>0.1573</td>\n      <td>0.3689</td>\n      <td>0.08368</td>\n      <td>0</td>\n    </tr>\n  </tbody>\n</table>\n<p>1 rows × 31 columns</p>\n</div>"
     },
     "metadata": {},
     "execution_count": 9
    }
   ],
   "source": [
    "test_df.head(1)"
   ]
  },
  {
   "cell_type": "code",
   "execution_count": 10,
   "metadata": {},
   "outputs": [
    {
     "output_type": "execute_result",
     "data": {
      "text/plain": [
       "((143, 30), (143,))"
      ]
     },
     "metadata": {},
     "execution_count": 10
    }
   ],
   "source": [
    "y_test = test_df['target'].values\n",
    "X_test = scaler.fit_transform(test_df.drop(columns='target', axis=1))\n",
    "X_test.shape, y_test.shape"
   ]
  },
  {
   "source": [
    "## LogisticRegression"
   ],
   "cell_type": "markdown",
   "metadata": {}
  },
  {
   "cell_type": "code",
   "execution_count": 11,
   "metadata": {},
   "outputs": [
    {
     "output_type": "execute_result",
     "data": {
      "text/plain": [
       "{'C': 1.0,\n",
       " 'class_weight': None,\n",
       " 'dual': False,\n",
       " 'fit_intercept': True,\n",
       " 'intercept_scaling': 1,\n",
       " 'l1_ratio': None,\n",
       " 'max_iter': 100,\n",
       " 'multi_class': 'auto',\n",
       " 'n_jobs': None,\n",
       " 'penalty': 'l2',\n",
       " 'random_state': None,\n",
       " 'solver': 'lbfgs',\n",
       " 'tol': 0.0001,\n",
       " 'verbose': 0,\n",
       " 'warm_start': False}"
      ]
     },
     "metadata": {},
     "execution_count": 11
    }
   ],
   "source": [
    "lr = LogisticRegression()\n",
    "lr.get_params()"
   ]
  },
  {
   "source": [
    "## GridSearchCV"
   ],
   "cell_type": "markdown",
   "metadata": {}
  },
  {
   "cell_type": "code",
   "execution_count": 28,
   "metadata": {},
   "outputs": [
    {
     "output_type": "stream",
     "name": "stdout",
     "text": [
      "Best Score: 0.9718\nBest Params:  {'C': 4}\nCPU times: user 14.7 s, sys: 794 ms, total: 15.5 s\nWall time: 34 s\n"
     ]
    }
   ],
   "source": [
    "%%time\n",
    "param_grid = {\n",
    "    'C': np.arange(0, 100, 2)\n",
    "}\n",
    "gs = GridSearchCV(lr, param_grid=param_grid, scoring='accuracy', cv=5)\n",
    "gs.fit(X_train, y_train)\n",
    "print('Best Score: {:.4f}'.format(gs.best_score_))\n",
    "print('Best Params: ', gs.best_params_)"
   ]
  },
  {
   "cell_type": "code",
   "execution_count": 29,
   "metadata": {},
   "outputs": [
    {
     "output_type": "stream",
     "name": "stdout",
     "text": [
      "Best Score: 0.9741\nBest Params:  {'C': 5}\nCPU times: user 520 ms, sys: 27.7 ms, total: 548 ms\nWall time: 550 ms\n"
     ]
    }
   ],
   "source": [
    "%%time\n",
    "minimum = gs.best_params_.get('C') - 1\n",
    "maximum = gs.best_params_.get('C') + 2\n",
    "param_grid = {\n",
    "    'C': np.arange(minimum, maximum, 1)\n",
    "}\n",
    "gs = GridSearchCV(lr, param_grid=param_grid, scoring='accuracy', cv=5)\n",
    "gs.fit(X_train, y_train)\n",
    "print('Best Score: {:.4f}'.format(gs.best_score_))\n",
    "print('Best Params: ', gs.best_params_)"
   ]
  },
  {
   "cell_type": "code",
   "execution_count": 24,
   "metadata": {},
   "outputs": [
    {
     "output_type": "execute_result",
     "data": {
      "text/plain": [
       "0.972027972027972"
      ]
     },
     "metadata": {},
     "execution_count": 24
    }
   ],
   "source": [
    "best_estimator = gs.best_estimator_\n",
    "pred = best_estimator.predict(X_test)\n",
    "\n",
    "accuracy_score(y_test, pred)"
   ]
  },
  {
   "source": [
    "## Pipeline"
   ],
   "cell_type": "markdown",
   "metadata": {}
  },
  {
   "cell_type": "code",
   "execution_count": null,
   "metadata": {},
   "outputs": [],
   "source": []
  },
  {
   "cell_type": "code",
   "execution_count": null,
   "metadata": {},
   "outputs": [],
   "source": []
  },
  {
   "cell_type": "code",
   "execution_count": null,
   "metadata": {},
   "outputs": [],
   "source": []
  },
  {
   "source": [
    "## Export"
   ],
   "cell_type": "markdown",
   "metadata": {}
  },
  {
   "cell_type": "code",
   "execution_count": 27,
   "metadata": {},
   "outputs": [],
   "source": [
    "# joblib.dump(best_lr, '../static/model/cancer_lr.pkl')"
   ]
  },
  {
   "cell_type": "code",
   "execution_count": null,
   "metadata": {},
   "outputs": [],
   "source": []
  },
  {
   "cell_type": "code",
   "execution_count": null,
   "metadata": {},
   "outputs": [],
   "source": []
  },
  {
   "cell_type": "code",
   "execution_count": null,
   "metadata": {},
   "outputs": [],
   "source": []
  },
  {
   "cell_type": "code",
   "execution_count": null,
   "metadata": {},
   "outputs": [],
   "source": []
  }
 ]
}