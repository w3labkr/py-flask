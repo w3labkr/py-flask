{
 "metadata": {
  "language_info": {
   "codemirror_mode": {
    "name": "ipython",
    "version": 3
   },
   "file_extension": ".py",
   "mimetype": "text/x-python",
   "name": "python",
   "nbconvert_exporter": "python",
   "pygments_lexer": "ipython3",
   "version": "3.8.5-final"
  },
  "orig_nbformat": 2,
  "kernelspec": {
   "name": "python3",
   "display_name": "Python 3.8.5 64-bit ('3.8.5': pyenv)",
   "metadata": {
    "interpreter": {
     "hash": "6c677bc4c660f1f1cbf165f965e4b1da2a53dc6ba2819dcdba81dbfb14fe63d8"
    }
   }
  }
 },
 "nbformat": 4,
 "nbformat_minor": 2,
 "cells": [
  {
   "cell_type": "code",
   "execution_count": 1,
   "metadata": {},
   "outputs": [
    {
     "output_type": "execute_result",
     "data": {
      "text/plain": [
       "{'iserror': True, 'errmsg': '', 'dataset': {'abd': 123}}"
      ]
     },
     "metadata": {},
     "execution_count": 1
    }
   ],
   "source": [
    "def get_data(key=''):\n",
    "    obj = {\n",
    "        'metadata': {'slug': '', 'current': '', 'parent': '', 'ancestor': ''},\n",
    "        'layout': 'content',\n",
    "        'navigation': {'filename': 'navigation.jinja', 'title': ''},\n",
    "        'secondary': {'filename': 'sidebar.jinja'},\n",
    "        'tertiary': {'filename': 'sidebar.jinja'},\n",
    "        'request': {'form': {}},\n",
    "        'response': {'iserror': False, 'errmsg': '', 'dataset': {}},\n",
    "    }\n",
    "    return obj.get(key, {}) if key else obj\n",
    "\n",
    "def get_response(data={}):\n",
    "    obj = get_data('response')\n",
    "    for k, v in data.items():\n",
    "        obj.update({k: v})\n",
    "    return obj\n",
    "\n",
    "get_response({'iserror': True, 'dataset': { 'abd': 123 }})"
   ]
  },
  {
   "cell_type": "code",
   "execution_count": 5,
   "metadata": {},
   "outputs": [
    {
     "output_type": "execute_result",
     "data": {
      "text/plain": [
       "{'iserror': False, 'errmsg': '', 'dataset': {'images': []}}"
      ]
     },
     "metadata": {},
     "execution_count": 5
    }
   ],
   "source": [
    "def get_response(**kwargs):\n",
    "    obj = get_data('response')\n",
    "    for key, values in kwargs.items():\n",
    "        for k, v in values.items():\n",
    "            obj[key].update({k: v})\n",
    "    return obj\n",
    "\n",
    "get_response(dataset={'images': []})"
   ]
  },
  {
   "cell_type": "code",
   "execution_count": 46,
   "metadata": {},
   "outputs": [
    {
     "output_type": "execute_result",
     "data": {
      "text/plain": [
       "{'iserror': False,\n",
       " 'errmsg': '123',\n",
       " 'dataset': {'images': []},\n",
       " 'images': [],\n",
       " 'fid': {'iserror': 123}}"
      ]
     },
     "metadata": {},
     "execution_count": 46
    }
   ],
   "source": [
    "def get_response(**kwargs):\n",
    "    obj = get_data('response')\n",
    "    for key, values in kwargs.items():\n",
    "        try:\n",
    "            for k, v in values.items():\n",
    "                if key == 'data':\n",
    "                    try:\n",
    "                        obj.update({k: v})\n",
    "                    except Exception as e:\n",
    "                        obj = {k: v}\n",
    "                else:\n",
    "                    try:\n",
    "                        obj[key].update({k: v})\n",
    "                    except Exception as e:\n",
    "                        obj[key] = {k: v}\n",
    "        except Exception as e:\n",
    "            obj.update({key: values})\n",
    "    return obj\n",
    "\n",
    "get_response(data={'images': []}, fid={'iserror':123}, dataset={'images':[]}, errmsg='123')"
   ]
  },
  {
   "cell_type": "code",
   "execution_count": null,
   "metadata": {},
   "outputs": [],
   "source": [
    "data = {\n",
    "    'iserror': False, 'errmsg': '', 'dataset': { 'abc': 123 }\n",
    "}\n",
    "def get_response(**kwargs):\n",
    "    # obj = get_data('response')\n",
    "    obj = data\n",
    "    for key, values in kwargs.items():\n",
    "        is_data = True if key == 'data' else False\n",
    "        for k, v in values.items():\n",
    "            try:\n",
    "                if is_data:\n",
    "                    obj.update({k: v})\n",
    "                else:\n",
    "                    obj[key].update({k: v})\n",
    "            except Exception as e:\n",
    "                if is_data:\n",
    "                    obj = {k: v}\n",
    "                else:\n",
    "                    obj[key] = {k: v}\n",
    "    return obj\n",
    "\n",
    "get_response(data={'images': []}, fid={'iserror':123}, dataset={'images':[]})"
   ]
  },
  {
   "cell_type": "code",
   "execution_count": 8,
   "metadata": {},
   "outputs": [
    {
     "output_type": "stream",
     "name": "stdout",
     "text": [
      "remove_anonymous_directory\nabc.def.min\n"
     ]
    }
   ],
   "source": [
    "import os\n",
    "\n",
    "basedir = '../schedules'\n",
    "\n",
    "for filename in os.listdir(basedir):\n",
    "    filepath = os.path.join(basedir, filename)\n",
    "    if (not os.path.isfile(filepath)):\n",
    "        continue\n",
    "    if (filename.startswith('_')):\n",
    "        continue\n",
    "\n",
    "    # print(filename)\n",
    "\n",
    "    # Remove the extension from the filename.\n",
    "    filename = os.path.splitext(filename)[0]\n",
    "    # filename = '.'.join(os.path.basename(filename).split('.')[:-1])\n",
    "\n",
    "    print(filename)"
   ]
  },
  {
   "cell_type": "code",
   "execution_count": null,
   "metadata": {},
   "outputs": [],
   "source": []
  }
 ]
}